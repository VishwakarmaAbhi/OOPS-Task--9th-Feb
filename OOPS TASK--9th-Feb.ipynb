{
 "cells": [
  {
   "cell_type": "markdown",
   "id": "b72e38c6-868a-4d31-8153-6a656b3a4d94",
   "metadata": {},
   "source": [
    "Q1, Create a vehicle class with an init method having instance variables as name_of_vehicle, max_speed and average_of_vehicle."
   ]
  },
  {
   "cell_type": "code",
   "execution_count": 2,
   "id": "ffcc01e7-2d49-4b04-8f67-c244f3d221e6",
   "metadata": {},
   "outputs": [
    {
     "name": "stdout",
     "output_type": "stream",
     "text": [
      "Name of Vehicle: Toyota Camry\n",
      "Max Speed: 180\n",
      "Average of Vehicle: 30\n"
     ]
    }
   ],
   "source": [
    "class Vehicle:\n",
    "    def __init__(self, name_of_vehicle, max_speed, average_of_vehicle):\n",
    "        self.name_of_vehicle = name_of_vehicle\n",
    "        self.max_speed = max_speed\n",
    "        self.average_of_vehicle = average_of_vehicle\n",
    "\n",
    "# Example usage:\n",
    "car = Vehicle(\"Toyota Camry\", 180, 30)\n",
    "print(\"Name of Vehicle:\", car.name_of_vehicle)\n",
    "print(\"Max Speed:\", car.max_speed)\n",
    "print(\"Average of Vehicle:\", car.average_of_vehicle)\n"
   ]
  },
  {
   "cell_type": "markdown",
   "id": "c63908eb-38bb-4a2a-a4cc-44ff4a00f9c5",
   "metadata": {},
   "source": [
    "Q2. Create a child class car from the vehicle class created in Que 1, which will inherit the vehicle class.\n",
    "Create a method named seating_capacity which takes capacity as an argument and returns the name of\n",
    "the vehicle and its seating capacity."
   ]
  },
  {
   "cell_type": "code",
   "execution_count": 3,
   "id": "250d0275-48de-4250-81e6-558b605277d8",
   "metadata": {},
   "outputs": [
    {
     "name": "stdout",
     "output_type": "stream",
     "text": [
      "Toyota Camry has a seating capacity of 5.\n"
     ]
    }
   ],
   "source": [
    "class Car(Vehicle):\n",
    "    def __init__(self, name_of_vehicle, max_speed, average_of_vehicle):\n",
    "        super().__init__(name_of_vehicle, max_speed, average_of_vehicle)\n",
    "\n",
    "    def seating_capacity(self, capacity):\n",
    "        return f\"{self.name_of_vehicle} has a seating capacity of {capacity}.\"\n",
    "\n",
    "# Example usage:\n",
    "car = Car(\"Toyota Camry\", 180, 30)\n",
    "print(car.seating_capacity(5))\n"
   ]
  },
  {
   "cell_type": "markdown",
   "id": "dfdad84d-2db8-456f-a122-6ef20577e26b",
   "metadata": {},
   "source": [
    "Q3. What is multiple inheritance? Write a python code to demonstrate multiple inheritance."
   ]
  },
  {
   "cell_type": "markdown",
   "id": "14516820-5959-4fa4-b3d1-c1e18a24cbcc",
   "metadata": {},
   "source": [
    "Answer: Multiple inheritance is a feature in object-oriented programming where a class can inherit attributes and methods from more than one parent class. This means that a subclass can inherit from multiple parent classes."
   ]
  },
  {
   "cell_type": "code",
   "execution_count": 4,
   "id": "2d75aec3-f92b-461d-a096-5c59cc337c61",
   "metadata": {},
   "outputs": [
    {
     "name": "stdout",
     "output_type": "stream",
     "text": [
      "Method 1 from Parent 1\n",
      "Method 2 from Parent 2\n",
      "Method 3 from Child\n"
     ]
    }
   ],
   "source": [
    "#Here's a Python code example demonstrating multiple inheritance:\n",
    "\n",
    "class Parent1:\n",
    "    def method1(self):\n",
    "        print(\"Method 1 from Parent 1\")\n",
    "\n",
    "class Parent2:\n",
    "    def method2(self):\n",
    "        print(\"Method 2 from Parent 2\")\n",
    "\n",
    "class Child(Parent1, Parent2):\n",
    "    def method3(self):\n",
    "        print(\"Method 3 from Child\")\n",
    "\n",
    "# Create an instance of the Child class\n",
    "child = Child()\n",
    "\n",
    "# Call methods from Parent1\n",
    "child.method1()\n",
    "\n",
    "# Call methods from Parent2\n",
    "child.method2()\n",
    "\n",
    "# Call methods from Child\n",
    "child.method3()\n"
   ]
  },
  {
   "cell_type": "markdown",
   "id": "9b6da10e-4e8f-4da8-952f-7b5164168979",
   "metadata": {},
   "source": [
    "In this example:\n",
    "\n",
    "* Parent1 and Parent2 are parent classes.\n",
    "* Child class inherits from both Parent1 and Parent2 classes, making it a multiple inheritance scenario.\n",
    "* The Child class inherits methods method1 from Parent1 and method2 from Parent2.\n",
    "* It also defines its own method method3.\n",
    "* When we create an instance of Child and call its methods, it can access methods from both parent classes as well as its own methods."
   ]
  },
  {
   "cell_type": "markdown",
   "id": "7e111a64-bf1c-46c2-a917-c6d26b209a09",
   "metadata": {},
   "source": [
    "Q4. What are getter and setter in python? Create a class and create a getter and a setter method in this class."
   ]
  },
  {
   "cell_type": "markdown",
   "id": "8e1701d1-8ea9-42dc-98ae-a3d1cc3b0aea",
   "metadata": {},
   "source": [
    "\n",
    "Answer : In Python, getter and setter methods are used to control access to the attributes of a class. They are typically used to enforce encapsulation and ensure data integrity by providing a controlled way to access and modify attributes.\n",
    "\n",
    "* Getter methods are used to retrieve the value of an attribute.\n",
    "* Setter methods are used to modify the value of an attribute."
   ]
  },
  {
   "cell_type": "code",
   "execution_count": 5,
   "id": "be2c8877-672e-4c90-ad9e-5454fd765feb",
   "metadata": {},
   "outputs": [
    {
     "name": "stdout",
     "output_type": "stream",
     "text": [
      "Hello\n"
     ]
    }
   ],
   "source": [
    "# Here's an example demonstrating the implementation of a class with a getter and a setter method:\n",
    "\n",
    "class MyClass:\n",
    "    def __init__(self):\n",
    "        self._my_attribute = None\n",
    "\n",
    "    # Getter method\n",
    "    def get_my_attribute(self):\n",
    "        return self._my_attribute\n",
    "\n",
    "    # Setter method\n",
    "    def set_my_attribute(self, value):\n",
    "        self._my_attribute = value\n",
    "\n",
    "# Create an instance of MyClass\n",
    "obj = MyClass()\n",
    "\n",
    "# Set the attribute using the setter method\n",
    "obj.set_my_attribute(\"Hello\")\n",
    "\n",
    "# Get the attribute using the getter method\n",
    "print(obj.get_my_attribute())  # Output: Hello\n",
    "\n"
   ]
  },
  {
   "cell_type": "markdown",
   "id": "f7ecc559-f809-4ebd-97ff-050a85d959bc",
   "metadata": {},
   "source": [
    "In this example:\n",
    "\n",
    "* \"MyClass\" defines an attribute \"_my_attribute\" and initializes it to \"None\" in the \"__init__\" method.\n",
    "* \"get_my_attribute\" is a getter method that returns the value of '_my_attribute'.\n",
    "* \"set_my_attribute\" is a setter method that sets the value of '_my_attribute'.\n",
    "* We create an instance \"obj\" of \"MyClass\", set the value of \"_my_attribute\" using the setter method, and then retrieve it using the getter method."
   ]
  },
  {
   "cell_type": "markdown",
   "id": "4280098a-d4cc-40d4-a602-c31942d40ed2",
   "metadata": {},
   "source": [
    "Q5.What is method overriding in python? Write a python code to demonstrate method overriding."
   ]
  },
  {
   "cell_type": "markdown",
   "id": "d342ddad-db3b-4564-a214-c8775bc00e66",
   "metadata": {},
   "source": [
    "Answer: Method overriding is a concept in object-oriented programming where a subclass provides a specific implementation of a method that is already defined in its superclass. When a subclass overrides a method, it replaces the implementation of that method in the superclass."
   ]
  },
  {
   "cell_type": "code",
   "execution_count": 6,
   "id": "215057cf-756f-4b70-97a7-527edfb143c9",
   "metadata": {},
   "outputs": [
    {
     "name": "stdout",
     "output_type": "stream",
     "text": [
      "Parent's show method\n",
      "Child's show method\n"
     ]
    }
   ],
   "source": [
    "# Here's a Python code example demonstrating method overriding:\n",
    "\n",
    "class Parent:\n",
    "    def show(self):\n",
    "        print(\"Parent's show method\")\n",
    "\n",
    "class Child(Parent):\n",
    "    def show(self):\n",
    "        print(\"Child's show method\")\n",
    "\n",
    "# Create instances of Parent and Child classes\n",
    "parent = Parent()\n",
    "child = Child()\n",
    "\n",
    "# Call the show method on instances\n",
    "parent.show()  # Output: Parent's show method\n",
    "child.show()   # Output: Child's show method\n"
   ]
  },
  {
   "cell_type": "markdown",
   "id": "2c7ce99d-523e-4aca-9259-e7faf4c4b0a9",
   "metadata": {},
   "source": [
    "In this example:\n",
    "\n",
    "* \"Parent\" class defines a method \"show\".\n",
    "* \"Child\" class inherits from \"Parent\" and overrides the \"show\" method with its own implementation.\n",
    "* When we call the *show* method on an instance of *Parent*, it executes the implementation defined in the \"Parent\" class.\n",
    "* When we call the \"show\" method on an instance of \"Child\", it executes the overridden implementation defined in the \"Child\" class."
   ]
  },
  {
   "cell_type": "code",
   "execution_count": null,
   "id": "5ffb63c5-13cc-43f4-938e-ce6d3aa2e5b5",
   "metadata": {},
   "outputs": [],
   "source": []
  }
 ],
 "metadata": {
  "kernelspec": {
   "display_name": "Python 3 (ipykernel)",
   "language": "python",
   "name": "python3"
  },
  "language_info": {
   "codemirror_mode": {
    "name": "ipython",
    "version": 3
   },
   "file_extension": ".py",
   "mimetype": "text/x-python",
   "name": "python",
   "nbconvert_exporter": "python",
   "pygments_lexer": "ipython3",
   "version": "3.10.8"
  }
 },
 "nbformat": 4,
 "nbformat_minor": 5
}
